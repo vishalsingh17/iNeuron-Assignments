{
 "cells": [
  {
   "cell_type": "markdown",
   "metadata": {},
   "source": [
    "1. Create the below pattern using nested for loop in Python.\n",
    "\n",
    "   *\n",
    "   * *\n",
    "   * * *\n",
    "   * * * *\n",
    "   * * * * *\n",
    "   * * * *\n",
    "   * * *\n",
    "   * *\n",
    "   *"
   ]
  },
  {
   "cell_type": "code",
   "execution_count": 1,
   "metadata": {},
   "outputs": [
    {
     "name": "stdout",
     "output_type": "stream",
     "text": [
      "*\n",
      "**\n",
      "***\n",
      "****\n",
      "*****\n",
      "****\n",
      "***\n",
      "**\n",
      "*\n"
     ]
    }
   ],
   "source": [
    "for i in range(1,6):\n",
    "    for j in range(i):\n",
    "        print ('*', end='')\n",
    "    print('')\n",
    "\n",
    "for i in range(4,0,-1):\n",
    "    for j in range(i):\n",
    "        print('*', end=\"\")\n",
    "    print('')    "
   ]
  },
  {
   "cell_type": "markdown",
   "metadata": {},
   "source": [
    "2. Write a Python program to reverse a word after accepting the input from the user.\n",
    "\n",
    "   Sample Output: ineuron\n",
    "        \n",
    "   Input word: ineuron\n",
    "   Output: norueni     "
   ]
  },
  {
   "cell_type": "code",
   "execution_count": 2,
   "metadata": {},
   "outputs": [
    {
     "name": "stdout",
     "output_type": "stream",
     "text": [
      "Enter the word you want to reverse: ineuron\n",
      "norueni\n"
     ]
    }
   ],
   "source": [
    "word = input(\"Enter the word you want to reverse: \")\n",
    "print(word[::-1])"
   ]
  },
  {
   "cell_type": "code",
   "execution_count": null,
   "metadata": {},
   "outputs": [],
   "source": []
  }
 ],
 "metadata": {
  "kernelspec": {
   "display_name": "Python 3",
   "language": "python",
   "name": "python3"
  },
  "language_info": {
   "codemirror_mode": {
    "name": "ipython",
    "version": 3
   },
   "file_extension": ".py",
   "mimetype": "text/x-python",
   "name": "python",
   "nbconvert_exporter": "python",
   "pygments_lexer": "ipython3",
   "version": "3.6.10"
  }
 },
 "nbformat": 4,
 "nbformat_minor": 4
}
